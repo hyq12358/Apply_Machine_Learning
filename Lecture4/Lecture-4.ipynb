{
 "cells": [
  {
   "cell_type": "code",
   "execution_count": 45,
   "metadata": {},
   "outputs": [
    {
     "name": "stdout",
     "output_type": "stream",
     "text": [
      "Validation: 0.963\n",
      "Test: 0.937\n"
     ]
    }
   ],
   "source": [
    "from sklearn.datasets import load_breast_cancer\n",
    "from sklearn.preprocessing import scale\n",
    "from sklearn.model_selection import train_test_split\n",
    "\n",
    "data = load_breast_cancer()\n",
    "X = data.data\n",
    "y = data.target\n",
    "\n",
    "X = scale(X)\n",
    "\n",
    "X_trainval, X_test, y_trainval, y_test = train_test_split(X, y)\n",
    "\n",
    "len(X_trainval), len(X_test)\n",
    "\n",
    "X_train, X_val, y_train, y_val = train_test_split(X_trainval, y_trainval)\n",
    "\n",
    "from sklearn.neighbors import KNeighborsClassifier\n",
    "knn = KNeighborsClassifier(n_neighbors=5)\n",
    "knn.fit(X_train, y_train)\n",
    "print('Validation: {0:.3f}'.format(knn.score(X_val, y_val)))\n",
    "print('Test: {0:.3f}'.format(knn.score(X_test, y_test)))"
   ]
  },
  {
   "cell_type": "code",
   "execution_count": 46,
   "metadata": {},
   "outputs": [],
   "source": [
    "import numpy as np"
   ]
  },
  {
   "cell_type": "code",
   "execution_count": 47,
   "metadata": {},
   "outputs": [
    {
     "name": "stdout",
     "output_type": "stream",
     "text": [
      "Valition:0.972\n",
      "Test:0.951\n"
     ]
    }
   ],
   "source": [
    "val = []\n",
    "test = []\n",
    "for i in range(1000):\n",
    "    rng = np.random.RandomState(i)\n",
    "    noise = rng.normal(loc=0, scale=.1, size=X_train.shape)\n",
    "    knn = KNeighborsClassifier(n_neighbors=5)\n",
    "    knn.fit(X_train+noise, y_train)\n",
    "    val.append(knn.score(X_val, y_val))\n",
    "    test.append(knn.score(X_test, y_test))\n",
    "    \n",
    "print('Valition:{0:.3f}'.format(np.max(val)))\n",
    "print('Test:{0:.3f}'.format(np.max(test)))"
   ]
  },
  {
   "cell_type": "code",
   "execution_count": 48,
   "metadata": {},
   "outputs": [
    {
     "name": "stdout",
     "output_type": "stream",
     "text": [
      "Best valition score:0.981\n",
      "best n_neigbors:3\n",
      "Test:0.958\n"
     ]
    }
   ],
   "source": [
    "val_scores = []\n",
    "neigbors = range(1,15,2)\n",
    "X_trainval, X_test, y_trainval, y_test = train_test_split(X, y)\n",
    "X_train, X_val, y_train, y_val = train_test_split(X_trainval, y_trainval)\n",
    "for i in neigbors:\n",
    "    knn = KNeighborsClassifier(n_neighbors=i)\n",
    "    knn.fit(X_train, y_train)\n",
    "    val_scores.append(knn.score(X_val, y_val))\n",
    "\n",
    "print('Best valition score:{0:.3f}'.format(np.max(val_scores)))\n",
    "best_neigbors = neigbors[np.argmax(val_scores)]\n",
    "print('best n_neigbors:{0}'.format(best_neigbors))\n",
    "\n",
    "knn = KNeighborsClassifier(n_neighbors=best_neigbors)\n",
    "knn.fit(X_trainval, y_trainval)\n",
    "print('Test:{0:.3f}'.format(knn.score(X_test, y_test)))"
   ]
  },
  {
   "cell_type": "code",
   "execution_count": 49,
   "metadata": {},
   "outputs": [
    {
     "name": "stdout",
     "output_type": "stream",
     "text": [
      "Best cross-valition score:0.976\n",
      "best n_neigbors:3\n",
      "Test:0.944\n"
     ]
    }
   ],
   "source": [
    "from sklearn.model_selection import cross_val_score\n",
    "\n",
    "X_train, X_test, y_train, y_test = train_test_split(X, y)\n",
    "neigbors = range(1,15,2)\n",
    "cv_scores = []\n",
    "for i in neigbors:\n",
    "    knn = KNeighborsClassifier(n_neighbors=i)\n",
    "    scores = cross_val_score(knn, X_train, y_train, cv=10)\n",
    "    cv_scores.append(np.mean(scores))\n",
    "print('Best cross-valition score:{0:.3f}'.format(np.max(cv_scores)))\n",
    "best_neigbors = neigbors[np.argmax(cv_scores)]\n",
    "print('best n_neigbors:{0}'.format(best_neigbors))\n",
    "\n",
    "knn = KNeighborsClassifier(n_neighbors=best_neigbors)\n",
    "knn.fit(X_train, y_train)\n",
    "print('Test:{0:.3f}'.format(knn.score(X_test, y_test)))"
   ]
  },
  {
   "cell_type": "code",
   "execution_count": 50,
   "metadata": {},
   "outputs": [
    {
     "name": "stdout",
     "output_type": "stream",
     "text": [
      "Best mean crossvalidation score 0.965\n",
      "Best n_neighbors {'n_neighbors': 7}\n"
     ]
    },
    {
     "data": {
      "text/plain": [
       "0.9440559440559441"
      ]
     },
     "execution_count": 50,
     "metadata": {},
     "output_type": "execute_result"
    }
   ],
   "source": [
    "from sklearn.model_selection import GridSearchCV\n",
    "\n",
    "X_train, X_test, y_train, y_test = train_test_split(X, y, stratify=y)# stratify 保证train, test分布相同\n",
    "neigbors = range(1,15,2)\n",
    "\n",
    "grid = GridSearchCV(KNeighborsClassifier(), param_grid={'n_neighbors':neigbors},  cv=10, return_train_score=True)\n",
    "grid.fit(X_train, y_train)\n",
    "print('Best mean crossvalidation score {0:.3f}'.format(grid.best_score_))\n",
    "print('Best n_neighbors {0}'.format(grid.best_params_))\n",
    "grid.score(X_test, y_test)"
   ]
  },
  {
   "cell_type": "code",
   "execution_count": 51,
   "metadata": {},
   "outputs": [],
   "source": [
    "import pandas as pd"
   ]
  },
  {
   "cell_type": "code",
   "execution_count": 52,
   "metadata": {},
   "outputs": [],
   "source": [
    "results = pd.DataFrame(grid.cv_results_)"
   ]
  },
  {
   "cell_type": "code",
   "execution_count": 53,
   "metadata": {},
   "outputs": [
    {
     "data": {
      "text/plain": [
       "Index(['mean_fit_time', 'std_fit_time', 'mean_score_time', 'std_score_time',\n",
       "       'param_n_neighbors', 'params', 'split0_test_score', 'split1_test_score',\n",
       "       'split2_test_score', 'split3_test_score', 'split4_test_score',\n",
       "       'split5_test_score', 'split6_test_score', 'split7_test_score',\n",
       "       'split8_test_score', 'split9_test_score', 'mean_test_score',\n",
       "       'std_test_score', 'rank_test_score', 'split0_train_score',\n",
       "       'split1_train_score', 'split2_train_score', 'split3_train_score',\n",
       "       'split4_train_score', 'split5_train_score', 'split6_train_score',\n",
       "       'split7_train_score', 'split8_train_score', 'split9_train_score',\n",
       "       'mean_train_score', 'std_train_score'],\n",
       "      dtype='object')"
      ]
     },
     "execution_count": 53,
     "metadata": {},
     "output_type": "execute_result"
    }
   ],
   "source": [
    "results.columns"
   ]
  },
  {
   "cell_type": "code",
   "execution_count": 54,
   "metadata": {},
   "outputs": [
    {
     "data": {
      "text/plain": [
       "0     {'n_neighbors': 1}\n",
       "1     {'n_neighbors': 3}\n",
       "2     {'n_neighbors': 5}\n",
       "3     {'n_neighbors': 7}\n",
       "4     {'n_neighbors': 9}\n",
       "5    {'n_neighbors': 11}\n",
       "6    {'n_neighbors': 13}\n",
       "Name: params, dtype: object"
      ]
     },
     "execution_count": 54,
     "metadata": {},
     "output_type": "execute_result"
    }
   ],
   "source": [
    "results.params"
   ]
  },
  {
   "cell_type": "code",
   "execution_count": 55,
   "metadata": {},
   "outputs": [
    {
     "data": {
      "text/plain": [
       "<matplotlib.axes._subplots.AxesSubplot at 0x21139b80588>"
      ]
     },
     "execution_count": 55,
     "metadata": {},
     "output_type": "execute_result"
    },
    {
     "data": {
      "image/png": "[encoded data removed]",
      "text/plain": [
       "<Figure size 432x288 with 1 Axes>"
      ]
     },
     "metadata": {
      "needs_background": "light"
     },
     "output_type": "display_data"
    }
   ],
   "source": [
    "%matplotlib inline\n",
    "ret = results.set_index('param_n_neighbors')\n",
    "ret.mean_train_score.plot()\n",
    "ret.mean_test_score.plot()"
   ]
  },
  {
   "cell_type": "markdown",
   "metadata": {},
   "source": [
    "* KFold#标准k子集划分\n",
    "\n",
    "* KFold#按类别k子集划分\n",
    "\n",
    "* TimeSeriesSplit#时间序列划分\n",
    "\n",
    "* ShuffleSplit#随机划分\n",
    "\n",
    "* StratifiedKFold#k子集按每个类固定比例划分\n",
    "\n",
    "* StratifiedShuffleSplit#k子集按每个类固定比例随机划分"
   ]
  },
  {
   "cell_type": "code",
   "execution_count": 56,
   "metadata": {},
   "outputs": [
    {
     "name": "stdout",
     "output_type": "stream",
     "text": [
      "KFold:\n",
      "[0.92982456 0.95614035 0.96491228 0.98245614 0.96460177]\n",
      "StratifiedKFold:\n",
      "[0.96521739 0.96521739 0.95575221 0.95575221 0.99115044]\n",
      "ShuffleSplit:\n",
      "[0.94152047 0.94152047 0.95906433 0.95906433 0.95906433 0.96491228\n",
      " 0.94152047 0.91812865 0.97660819 0.95321637 0.95321637 0.97076023\n",
      " 0.97076023 0.95321637 0.93567251 0.97076023 0.94152047 0.93567251\n",
      " 0.96491228 0.96491228]\n",
      "RepeatedStratifiedKFold:\n",
      "[0.93913043 0.96521739 0.98230088 0.95575221 0.97345133 0.93913043\n",
      " 0.97391304 0.99115044 0.97345133 0.92920354 0.99130435 0.97391304\n",
      " 0.95575221 0.97345133 0.96460177 0.9826087  0.97391304 0.95575221\n",
      " 0.96460177 0.97345133 0.94782609 0.96521739 0.95575221 0.99115044\n",
      " 0.97345133 0.95652174 1.         0.92920354 0.98230088 0.96460177\n",
      " 0.95652174 0.97391304 0.95575221 0.96460177 0.97345133 0.97391304\n",
      " 0.95652174 0.97345133 0.98230088 0.9380531  0.95652174 0.99130435\n",
      " 0.96460177 0.96460177 0.96460177 0.9826087  0.95652174 0.97345133\n",
      " 0.97345133 0.94690265]\n"
     ]
    }
   ],
   "source": [
    "from sklearn.model_selection import KFold, StratifiedKFold, ShuffleSplit, RepeatedStratifiedKFold\n",
    "kfold = KFold(n_splits=5)\n",
    "skfold = StratifiedKFold(n_splits=5, shuffle=True)\n",
    "ss = ShuffleSplit(n_splits=20, train_size=.4, test_size=.3)\n",
    "rs = RepeatedStratifiedKFold(n_splits=5, n_repeats=10)\n",
    "data = load_breast_cancer()\n",
    "X = data.data\n",
    "y = data.target\n",
    "\n",
    "X = scale(X)\n",
    "print('KFold:\\n{0}'.format(cross_val_score(KNeighborsClassifier(), X, y, cv=kfold)))\n",
    "print('StratifiedKFold:\\n{0}'.format(cross_val_score(KNeighborsClassifier(), X, y, cv=skfold)))\n",
    "print('ShuffleSplit:\\n{0}'.format(cross_val_score(KNeighborsClassifier(), X, y, cv=ss)))\n",
    "print('RepeatedStratifiedKFold:\\n{0}'.format(cross_val_score(KNeighborsClassifier(), X, y, cv=rs)))"
   ]
  },
  {
   "cell_type": "code",
   "execution_count": 57,
   "metadata": {},
   "outputs": [],
   "source": [
    "from sklearn.model_selection import cross_validate"
   ]
  },
  {
   "cell_type": "code",
   "execution_count": 62,
   "metadata": {},
   "outputs": [],
   "source": [
    "scores = cross_validate(KNeighborsClassifier(), X, y, cv=5, return_train_score=True, scoring=['accuracy', 'roc_auc'])"
   ]
  },
  {
   "cell_type": "code",
   "execution_count": 63,
   "metadata": {},
   "outputs": [
    {
     "data": {
      "text/html": [
       "<div>\n",
       "<style scoped>\n",
       "    .dataframe tbody tr th:only-of-type {\n",
       "        vertical-align: middle;\n",
       "    }\n",
       "\n",
       "    .dataframe tbody tr th {\n",
       "        vertical-align: top;\n",
       "    }\n",
       "\n",
       "    .dataframe thead th {\n",
       "        text-align: right;\n",
       "    }\n",
       "</style>\n",
       "<table border=\"1\" class=\"dataframe\">\n",
       "  <thead>\n",
       "    <tr style=\"text-align: right;\">\n",
       "      <th></th>\n",
       "      <th>fit_time</th>\n",
       "      <th>score_time</th>\n",
       "      <th>test_accuracy</th>\n",
       "      <th>train_accuracy</th>\n",
       "      <th>test_roc_auc</th>\n",
       "      <th>train_roc_auc</th>\n",
       "    </tr>\n",
       "  </thead>\n",
       "  <tbody>\n",
       "    <tr>\n",
       "      <th>0</th>\n",
       "      <td>0.001002</td>\n",
       "      <td>0.010055</td>\n",
       "      <td>0.965217</td>\n",
       "      <td>0.980176</td>\n",
       "      <td>0.996609</td>\n",
       "      <td>0.997654</td>\n",
       "    </tr>\n",
       "    <tr>\n",
       "      <th>1</th>\n",
       "      <td>0.001002</td>\n",
       "      <td>0.008552</td>\n",
       "      <td>0.956522</td>\n",
       "      <td>0.975771</td>\n",
       "      <td>0.983689</td>\n",
       "      <td>0.998650</td>\n",
       "    </tr>\n",
       "    <tr>\n",
       "      <th>2</th>\n",
       "      <td>0.001002</td>\n",
       "      <td>0.008049</td>\n",
       "      <td>0.982301</td>\n",
       "      <td>0.971491</td>\n",
       "      <td>0.999329</td>\n",
       "      <td>0.996977</td>\n",
       "    </tr>\n",
       "    <tr>\n",
       "      <th>3</th>\n",
       "      <td>0.000501</td>\n",
       "      <td>0.008021</td>\n",
       "      <td>0.955752</td>\n",
       "      <td>0.978070</td>\n",
       "      <td>0.984071</td>\n",
       "      <td>0.997820</td>\n",
       "    </tr>\n",
       "    <tr>\n",
       "      <th>4</th>\n",
       "      <td>0.000501</td>\n",
       "      <td>0.008022</td>\n",
       "      <td>0.964602</td>\n",
       "      <td>0.978070</td>\n",
       "      <td>0.994634</td>\n",
       "      <td>0.998026</td>\n",
       "    </tr>\n",
       "  </tbody>\n",
       "</table>\n",
       "</div>"
      ],
      "text/plain": [
       "   fit_time  score_time  test_accuracy  train_accuracy  test_roc_auc  \\\n",
       "0  0.001002    0.010055       0.965217        0.980176      0.996609   \n",
       "1  0.001002    0.008552       0.956522        0.975771      0.983689   \n",
       "2  0.001002    0.008049       0.982301        0.971491      0.999329   \n",
       "3  0.000501    0.008021       0.955752        0.978070      0.984071   \n",
       "4  0.000501    0.008022       0.964602        0.978070      0.994634   \n",
       "\n",
       "   train_roc_auc  \n",
       "0       0.997654  \n",
       "1       0.998650  \n",
       "2       0.996977  \n",
       "3       0.997820  \n",
       "4       0.998026  "
      ]
     },
     "execution_count": 63,
     "metadata": {},
     "output_type": "execute_result"
    }
   ],
   "source": [
    "pd.DataFrame(scores)"
   ]
  },
  {
   "cell_type": "code",
   "execution_count": null,
   "metadata": {},
   "outputs": [],
   "source": []
  }
 ],
 "metadata": {
  "kernelspec": {
   "display_name": "Python 3",
   "language": "python",
   "name": "python3"
  },
  "language_info": {
   "codemirror_mode": {
    "name": "ipython",
    "version": 3
   },
   "file_extension": ".py",
   "mimetype": "text/x-python",
   "name": "python",
   "nbconvert_exporter": "python",
   "pygments_lexer": "ipython3",
   "version": "3.7.3"
  }
 },
 "nbformat": 4,
 "nbformat_minor": 2
}
